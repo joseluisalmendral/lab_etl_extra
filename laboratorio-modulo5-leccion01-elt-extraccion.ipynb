{
 "cells": [
  {
   "cell_type": "markdown",
   "metadata": {},
   "source": [
    "\n",
    "<div style=\"text-align: center;\">\n",
    "  <img src=\"https://github.com/Hack-io-Data/Imagenes/blob/main/01-LogosHackio/logo_amarillo@4x.png?raw=true\" alt=\"esquema\" />\n",
    "</div>"
   ]
  },
  {
   "cell_type": "markdown",
   "metadata": {},
   "source": [
    "\n",
    "# Laboratorio ETL: Análisis del Sistema Energético en España\n",
    "\n",
    "## Objetivo\n",
    "\n",
    "Durante todos los laboratorios de esta semana realizarás un proceso completo de ETL para analizar la relación entre la demanda, el consumo y la generación eléctrica en diferentes provincias de España a lo largo de un año. Además, complementarán este análisis con datos demográficos y económicos extraídos del Instituto Nacional de Estadística (INE). El **objetivo principal** del análisis es **examinar cómo la demanda, el consumo y la generación eléctrica en diferentes provincias de España a lo largo de los años están influenciados por factores demográficos y económicos, como la población y el PIB provincial**. El análisis busca identificar patrones y correlaciones entre estas variables para comprender mejor las dinámicas energéticas regionales y su relación con el desarrollo socioeconómico en España.\n",
    "\n",
    "Antes de realizar el análisis, vamos a definir las hipótesis con las que vamos a trabajar, las cuales definirán todo tu análisis y planteamiento de los laboratorios: \n",
    "\n",
    "- **Hipótesis 1: La demanda eléctrica está correlacionada con la población de la provincia.** Provincias con mayor población tienden a tener una mayor demanda eléctrica.\n",
    "  \n",
    "- **Hipótesis 2: El crecimiento económico (medido por el PIB) está correlacionado con la demanda eléctrica.** Las provincias con un PIB más alto o en crecimiento experimentan una mayor demanda de energía.\n",
    "\n",
    "- **Hipótesis 3: La proporción de generación renovable está relacionada con factores económicos o geográficos.** Provincias con un mayor desarrollo económico o con condiciones geográficas favorables (como más horas de sol o viento) tienden a generar más energía renovable.\n",
    "\n",
    "\n",
    "## Tareas Laboratorio Extracción\n",
    "\n",
    "En el laboratorio de hoy tendrás que extraer la información necesaria para obtener tu objetivo de las siguientes fuentes de datos (deberás usar API's y herramientas de *web scrapping*):\n",
    "\n",
    "- **Datos de la API de Red Eléctrica Española (REE):** Deberás extraer datos mensuales a nivel provincial de los siguientes aspectos:\n",
    "\n",
    "  - **Demanda Eléctrica:** Nos proporciona los datos de demanda eléctrica a nivel provincial, agregados de manera mensual. Tendrás que usar el endpoint de \"https://apidatos.ree.es/es/datos/demanda/evolucion\", añadiendo los parámetros que sean necesarios. \n",
    "\n",
    "  - **Generación Eléctrica:** Nos proporciona los datos de generación eléctrica a nivel provincial, diferenciando entre fuentes de energía (eólica, solar, hidroeléctrica, etc.), agregados de manera mensual. Tendrás que usar el endpoint de \"https://apidatos.ree.es/es/datos/generacion/estructura-renovables\", añadiendo los parámetros que sean necesarios.\n",
    "\n",
    "  La documentación de la API la encontrarás en [este link](https://www.ree.es/es/apidatos). Recuerda leer en detenimiento la documentación. \n",
    "\n",
    "- **Datos del Instituto Nacional de Estadística (INE):** Además de los datos de la REE, debes extraer y utilizar datos socioeconómicos de las siguientes páginas del INE:\n",
    "\n",
    "- **Datos Demográficos:** Extraer los datos de población por provincias, diferenciando por grupos de edad, sexo, y extrajeros. Estos datos serán utilizados para analizar cómo la población afecta a la demanda eléctrica en cada provincia.\n",
    "\n",
    "  - **Página web:** [INE - Población por provincias](https://www.ine.es/dyngs/INEbase/es/operacion.htm?c=Estadistica_C&cid=1254736177012&menu=resultados&idp=1254734710990)\n",
    "\n",
    "  - \"Principales series 1998-2022\" --> \"Por provincia\" --> \" Población por provincias, edad (3 grupos de edad), españoles/Extranjeros, Sexo y año\"\n",
    "\n",
    "- **Datos Económicos:**\n",
    "\n",
    "  - **Página web:** [INE - PIB por provincias](https://www.ine.es/dynt3/inebase/es/index.htm?padre=10426&capsel=10429). \n",
    "\n",
    "  - **Pasos para la extracción**:\" Resultados provinciales. Serie contable 2016-2021\" --> \"P.I.B. a precios de mercado y valor añadido bruto a precios básicos por ramas de actividad: Precios corrientes por provincias y periodo.\"\n",
    "\n",
    "\n",
    "\n",
    "NOTA1: Tienes que sacar muchos datos, pero recuerda que hemos aprendido herramientas de asincronia que te pueden ayudar en este paso de la ETL. \n",
    "\n",
    "NOTA2: Todos estos datos los debes sacar para los años 2019-2020-2021"
   ]
  },
  {
   "cell_type": "code",
   "execution_count": 1,
   "metadata": {},
   "outputs": [],
   "source": [
    "from tqdm import tqdm\n",
    "import pandas as pd\n",
    "from selenium import webdriver\n",
    "from selenium.webdriver.common.by import By\n",
    "from selenium.webdriver.support.ui import WebDriverWait\n",
    "from selenium.webdriver.support import expected_conditions as EC\n",
    "from time import sleep\n",
    "import os\n",
    "import re\n",
    "\n",
    "from src import support_llamadas_asincronas as sup_llam"
   ]
  },
  {
   "cell_type": "code",
   "execution_count": 2,
   "metadata": {},
   "outputs": [],
   "source": [
    "cod_comunidades = {'Ceuta': 8744,\n",
    "                    'Melilla': 8745,\n",
    "                    'Andalucía': 4,\n",
    "                    'Aragón': 5,\n",
    "                    'Cantabria': 6,\n",
    "                    'Castilla - La Mancha': 7,\n",
    "                    'Castilla y León': 8,\n",
    "                    'Cataluña': 9,\n",
    "                    'País Vasco': 10,\n",
    "                    'Principado de Asturias': 11,\n",
    "                    'Comunidad de Madrid': 13,\n",
    "                    'Comunidad Foral de Navarra': 14,\n",
    "                    'Comunitat Valenciana': 15,\n",
    "                    'Extremadura': 16,\n",
    "                    'Galicia': 17,\n",
    "                    'Illes Balears': 8743,\n",
    "                    'Canarias': 8742,\n",
    "                    'Región de Murcia': 21,\n",
    "                    'La Rioja': 20}\n",
    "\n",
    "anios = ['2019', '2020', '2021']\n",
    "\n",
    "headers = {\n",
    "    'Accept': 'application/json;',\n",
    "    'Content-Type': 'application/json',\n",
    "    'Host': 'apidatos.ree.es'\n",
    "}"
   ]
  },
  {
   "cell_type": "markdown",
   "metadata": {},
   "source": [
    "## Construimos las urls de las que tenemos que obtener la informacion para la 'demanda energetica'."
   ]
  },
  {
   "cell_type": "code",
   "execution_count": 4,
   "metadata": {},
   "outputs": [
    {
     "name": "stderr",
     "output_type": "stream",
     "text": [
      "100%|██████████| 19/19 [00:00<?, ?it/s]\n"
     ]
    }
   ],
   "source": [
    "urls = []\n",
    "\n",
    "for clave, valor in tqdm(cod_comunidades.items()):\n",
    "    for anio in anios:\n",
    "        urls.append({\n",
    "            'cod_comunidad': valor,\n",
    "            'nombre_comunidad': clave,\n",
    "            'anio': anio,\n",
    "            'url': f'https://apidatos.ree.es/es/datos/demanda/evolucion?start_date={anio}-01-01T00:00&end_date={anio}-12-31T23:59&time_trunc=month&geo_trunc=electric_system&geo_limit=ccaa&geo_ids={valor}'\n",
    "        })\n"
   ]
  },
  {
   "cell_type": "code",
   "execution_count": 5,
   "metadata": {},
   "outputs": [],
   "source": [
    "resultado = await sup_llam.realizar_solicitudes(urls, headers)"
   ]
  },
  {
   "cell_type": "code",
   "execution_count": 6,
   "metadata": {},
   "outputs": [
    {
     "data": {
      "text/plain": [
       "57"
      ]
     },
     "execution_count": 6,
     "metadata": {},
     "output_type": "execute_result"
    }
   ],
   "source": [
    "len(resultado)"
   ]
  },
  {
   "cell_type": "code",
   "execution_count": 7,
   "metadata": {},
   "outputs": [
    {
     "data": {
      "text/plain": [
       "{'valores': [{'value': 17830.239,\n",
       "   'percentage': 1,\n",
       "   'datetime': '2019-01-01T00:00:00.000+01:00'},\n",
       "  {'value': 16019.527,\n",
       "   'percentage': 1,\n",
       "   'datetime': '2019-02-01T00:00:00.000+01:00'},\n",
       "  {'value': 16598.235,\n",
       "   'percentage': 1,\n",
       "   'datetime': '2019-03-01T00:00:00.000+01:00'},\n",
       "  {'value': 15221.094,\n",
       "   'percentage': 1,\n",
       "   'datetime': '2019-04-01T00:00:00.000+02:00'},\n",
       "  {'value': 16753.54,\n",
       "   'percentage': 1,\n",
       "   'datetime': '2019-05-01T00:00:00.000+02:00'},\n",
       "  {'value': 16642.239,\n",
       "   'percentage': 1,\n",
       "   'datetime': '2019-06-01T00:00:00.000+02:00'},\n",
       "  {'value': 18185.252,\n",
       "   'percentage': 1,\n",
       "   'datetime': '2019-07-01T00:00:00.000+02:00'},\n",
       "  {'value': 18656.52,\n",
       "   'percentage': 1,\n",
       "   'datetime': '2019-08-01T00:00:00.000+02:00'},\n",
       "  {'value': 17603.892,\n",
       "   'percentage': 1,\n",
       "   'datetime': '2019-09-01T00:00:00.000+02:00'},\n",
       "  {'value': 17669.152,\n",
       "   'percentage': 1,\n",
       "   'datetime': '2019-10-01T00:00:00.000+02:00'},\n",
       "  {'value': 17157.331,\n",
       "   'percentage': 1,\n",
       "   'datetime': '2019-11-01T00:00:00.000+01:00'},\n",
       "  {'value': 17711.219,\n",
       "   'percentage': 1,\n",
       "   'datetime': '2019-12-01T00:00:00.000+01:00'}],\n",
       " 'cod_comunidad': 8744,\n",
       " 'nombre_comunidad': 'Ceuta',\n",
       " 'anio': '2019'}"
      ]
     },
     "execution_count": 7,
     "metadata": {},
     "output_type": "execute_result"
    }
   ],
   "source": [
    "resultado[0]"
   ]
  },
  {
   "cell_type": "code",
   "execution_count": 8,
   "metadata": {},
   "outputs": [],
   "source": [
    "dict_demanda_electrica = []\n",
    "\n",
    "for i in resultado:\n",
    "    for valor in i['valores']:\n",
    "        dict_demanda_electrica.append({\n",
    "            'valor': valor['value'],\n",
    "            'porcentaje': valor['percentage'],\n",
    "            'fecha': valor['datetime'],\n",
    "            'cod_comunidad': i['cod_comunidad'],\n",
    "            'nombre_comunidad': i['nombre_comunidad'],\n",
    "            'anio': i['anio'],\n",
    "        })"
   ]
  },
  {
   "cell_type": "code",
   "execution_count": 9,
   "metadata": {},
   "outputs": [],
   "source": [
    "pd.DataFrame(dict_demanda_electrica).to_csv('datos/df_demanad_electrica.csv')"
   ]
  },
  {
   "cell_type": "markdown",
   "metadata": {},
   "source": [
    "## Ahora hacemos las urls para la generacion electrica"
   ]
  },
  {
   "cell_type": "code",
   "execution_count": 3,
   "metadata": {},
   "outputs": [
    {
     "name": "stderr",
     "output_type": "stream",
     "text": [
      "100%|██████████| 19/19 [00:00<?, ?it/s]\n"
     ]
    }
   ],
   "source": [
    "urls_generacion = []\n",
    "\n",
    "for clave, valor in tqdm(cod_comunidades.items()):\n",
    "    for anio in anios:\n",
    "        urls_generacion.append({\n",
    "            'cod_comunidad': valor,\n",
    "            'nombre_comunidad': clave,\n",
    "            'anio': anio,\n",
    "            'url': f'https://apidatos.ree.es/es/datos/generacion/estructura-renovables?start_date={anio}-01-01T00:00&end_date={anio}-12-31T23:59&time_trunc=month&geo_trunc=electric_system&geo_limit=ccaa&geo_ids={valor}'\n",
    "        })"
   ]
  },
  {
   "cell_type": "code",
   "execution_count": 4,
   "metadata": {},
   "outputs": [
    {
     "name": "stdout",
     "output_type": "stream",
     "text": [
      "Error en {'cod_comunidad': 8744, 'nombre_comunidad': 'Ceuta', 'anio': '2019', 'url': 'https://apidatos.ree.es/es/datos/generacion/estructura-renovables?start_date=2019-01-01T00:00&end_date=2019-12-31T23:59&time_trunc=month&geo_trunc=electric_system&geo_limit=ccaa&geo_ids=8744'}: 502\n",
      "Error en {'cod_comunidad': 8744, 'nombre_comunidad': 'Ceuta', 'anio': '2020', 'url': 'https://apidatos.ree.es/es/datos/generacion/estructura-renovables?start_date=2020-01-01T00:00&end_date=2020-12-31T23:59&time_trunc=month&geo_trunc=electric_system&geo_limit=ccaa&geo_ids=8744'}: 502\n",
      "Error en {'cod_comunidad': 8744, 'nombre_comunidad': 'Ceuta', 'anio': '2021', 'url': 'https://apidatos.ree.es/es/datos/generacion/estructura-renovables?start_date=2021-01-01T00:00&end_date=2021-12-31T23:59&time_trunc=month&geo_trunc=electric_system&geo_limit=ccaa&geo_ids=8744'}: 502\n"
     ]
    }
   ],
   "source": [
    "resultado = await sup_llam.realizar_solicitudes_generacion(urls_generacion, headers)"
   ]
  },
  {
   "cell_type": "code",
   "execution_count": 9,
   "metadata": {},
   "outputs": [],
   "source": [
    "resultado_bueno = [i for i in resultado if i is not None]"
   ]
  },
  {
   "cell_type": "code",
   "execution_count": 11,
   "metadata": {},
   "outputs": [],
   "source": [
    "dict_demanda_electrica = []\n",
    "\n",
    "for i in resultado_bueno:\n",
    "    for categoria, valores in i[\"categorias\"].items():\n",
    "        for valor in valores:\n",
    "            dict_demanda_electrica.append({\n",
    "                'categoria': categoria,\n",
    "                'valor': valor['valor'],\n",
    "                'porcentaje': valor['porcentaje'],\n",
    "                'fecha': valor['fecha'],\n",
    "                'color': valor['color'],\n",
    "                'title': valor['title'],\n",
    "                'last-update': valor['last-update'],\n",
    "                'cod_comunidad': i['cod_comunidad'],\n",
    "                'nombre_comunidad': i['nombre_comunidad'],\n",
    "                'anio': i['anio'],\n",
    "            })"
   ]
  },
  {
   "cell_type": "code",
   "execution_count": 13,
   "metadata": {},
   "outputs": [],
   "source": [
    "pd.DataFrame(dict_demanda_electrica).to_csv('datos/df_generacion_electrica.csv')"
   ]
  },
  {
   "cell_type": "markdown",
   "metadata": {},
   "source": [
    "## Ahora vamos con la parte del Scrapping"
   ]
  },
  {
   "cell_type": "code",
   "execution_count": 2,
   "metadata": {},
   "outputs": [],
   "source": [
    "prefs = {\n",
    "    \"download.default_directory\": r'C:\\HACKIO_DATA\\BOOTCAMP\\DATA SCIENCIE AR\\Modelo5\\lab_etl_extra\\datos\\INE',  # AQUÍ CADA UNO TENDREMOS QUE PONER LA RUTA QUE QUERAMOS PARA QUE SE GUARDEN LOS ARCHIVOS DESCARGADOS\n",
    "    \"download.prompt_for_download\": False,   # desactiva el diálogo que Chrome normalmente muestra para pedir confirmación del usuario antes de descargar un archivo\n",
    "    \"directory_upgrade\": True,    # hace que Chrome actualice el directorio de descarga predeterminado a la nueva ubicación especificada por download.default_directory si esta ha cambiado.\n",
    "}\n",
    "\n",
    "chrome_options = webdriver.ChromeOptions()\n",
    "chrome_options.add_experimental_option(\"prefs\", prefs)\n",
    "\n",
    "url = 'https://www.ine.es/dyngs/INEbase/es/operacion.htm?c=Estadistica_C&cid=1254736177012&menu=resultados&idp=1254734710990'\n",
    "\n",
    "driver = webdriver.Chrome(options=chrome_options)\n",
    "driver.get(url)\n",
    "sleep(2)\n",
    "driver.find_element(By.ID, \"aceptarCookie\").click()\n",
    "driver.find_element(By.LINK_TEXT, 'Por provincia').click()\n",
    "sleep(0.5)\n",
    "driver.find_element('xpath', '/html/body/div[1]/main/div[2]/ul/li[4]/ul/li[1]/a').click()\n",
    "sleep(1)\n",
    "driver.find_element('xpath', '//*[@id=\"tg0\"]/div/fieldset/div[2]/button[1]').click()\n",
    "driver.find_element('xpath', '//*[@id=\"tg1\"]/div/fieldset/div[2]/button[1]').click()\n",
    "driver.find_element('xpath', '//*[@id=\"tg2\"]/div/fieldset/div[2]/button[1]').click()\n",
    "driver.find_element('xpath', '//*[@id=\"tg3\"]/div/fieldset/div[2]/button[1]').click()\n",
    "anios = driver.find_element('xpath', '//*[@id=\"periodo\"]').find_elements(By.TAG_NAME, 'option')\n",
    "for a in anios:\n",
    "    if (int(a.text) in range(2019,2022)) or (a.get_attribute('selected') == 'true' and int(a.text) not in range(2019,2022)):\n",
    "        sleep(0.1)\n",
    "        a.click()\n",
    "    else:\n",
    "        break\n",
    "\n",
    "driver.find_element('xpath', '//*[@id=\"botonConsulSele\"]').click()\n",
    "WebDriverWait(driver, 20).until(EC.element_to_be_clickable(('xpath', '//*[@id=\"btnDescargaForm\"]'))).click()\n",
    "download_frame = driver.find_element('xpath', '//*[@id=\"thickBoxINEfrm\"]')\n",
    "driver.switch_to.frame(download_frame)\n",
    "WebDriverWait(driver, 20).until(EC.element_to_be_clickable(('xpath', '//*[@id=\"export\"]/ul/li[4]/label'))).click()\n",
    "sleep(2)\n",
    "driver.quit()"
   ]
  },
  {
   "cell_type": "code",
   "execution_count": 3,
   "metadata": {},
   "outputs": [],
   "source": [
    "ine_dir = r'C:\\HACKIO_DATA\\BOOTCAMP\\DATA SCIENCIE AR\\Modelo5\\lab_etl_extra\\datos\\INE'\n",
    "filename = os.listdir(ine_dir)[0]\n",
    "os.rename(os.path.join(ine_dir, filename), os.path.join(ine_dir, 'datos_demograficos.csv'))"
   ]
  },
  {
   "cell_type": "code",
   "execution_count": 2,
   "metadata": {},
   "outputs": [
    {
     "name": "stderr",
     "output_type": "stream",
     "text": [
      "<>:22: SyntaxWarning: invalid escape sequence '\\d'\n",
      "<>:22: SyntaxWarning: invalid escape sequence '\\d'\n",
      "C:\\Users\\JLFA\\AppData\\Local\\Temp\\ipykernel_2944\\2977906586.py:22: SyntaxWarning: invalid escape sequence '\\d'\n",
      "  a_text = re.search(pattern='\\d{4}', string = a.text).group()\n"
     ]
    }
   ],
   "source": [
    "prefs = {\n",
    "    \"download.default_directory\": r'C:\\HACKIO_DATA\\BOOTCAMP\\DATA SCIENCIE AR\\Modelo5\\lab_etl_extra\\datos\\INE',  # AQUÍ CADA UNO TENDREMOS QUE PONER LA RUTA QUE QUERAMOS PARA QUE SE GUARDEN LOS ARCHIVOS DESCARGADOS\n",
    "    \"download.prompt_for_download\": False,   # desactiva el diálogo que Chrome normalmente muestra para pedir confirmación del usuario antes de descargar un archivo\n",
    "    \"directory_upgrade\": True,    # hace que Chrome actualice el directorio de descarga predeterminado a la nueva ubicación especificada por download.default_directory si esta ha cambiado.\n",
    "}\n",
    "\n",
    "chrome_options = webdriver.ChromeOptions()\n",
    "chrome_options.add_experimental_option(\"prefs\", prefs)\n",
    "\n",
    "url = 'https://www.ine.es/dynt3/inebase/es/index.htm?padre=10426&capsel=10429'\n",
    "driver = webdriver.Chrome(options=chrome_options)\n",
    "driver.get(url)\n",
    "sleep(1)\n",
    "driver.find_element(By.ID, \"aceptarCookie\").click()\n",
    "driver.find_element('xpath', '/html/body/div[1]/main/div[2]/ul/li[3]/ul/li[1]/a').click()\n",
    "sleep(1)\n",
    "driver.find_element('xpath', '//*[@id=\"tg0\"]/div/fieldset/div[2]/button[1]').click()\n",
    "driver.find_element('xpath', '//*[@id=\"tg1\"]/div/fieldset/div[2]/button[1]').click()\n",
    "\n",
    "anios = driver.find_element('xpath', '//*[@id=\"periodo\"]').find_elements(By.TAG_NAME, 'option')\n",
    "for a in anios:\n",
    "    a_text = re.search(pattern='\\d{4}', string = a.text).group()\n",
    "    if a.get_attribute('selected') == 'true' and int(a_text) in range(2019,2022):\n",
    "        continue\n",
    "    elif (int(a_text) in range(2019,2022)):\n",
    "        sleep(0.1)\n",
    "        a.click()\n",
    "driver.find_element('xpath', '//*[@id=\"botonConsulSele\"]').click()\n",
    "sleep(2)\n",
    "WebDriverWait(driver, 20).until(EC.element_to_be_clickable(('xpath', '//*[@id=\"btnDescargaForm\"]'))).click()\n",
    "download_frame = driver.find_element('xpath', '//*[@id=\"thickBoxINEfrm\"]')\n",
    "driver.switch_to.frame(download_frame)\n",
    "WebDriverWait(driver, 20).until(EC.element_to_be_clickable(('xpath', '//*[@id=\"export\"]/ul/li[4]/label'))).click()\n",
    "sleep(2)\n",
    "driver.quit()"
   ]
  },
  {
   "cell_type": "code",
   "execution_count": 3,
   "metadata": {},
   "outputs": [],
   "source": [
    "ine_dir = r'C:\\HACKIO_DATA\\BOOTCAMP\\DATA SCIENCIE AR\\Modelo5\\lab_etl_extra\\datos\\INE'\n",
    "filename = os.listdir(ine_dir)[0]\n",
    "os.rename(os.path.join(ine_dir, filename), os.path.join(ine_dir, 'datos_pib.csv'))"
   ]
  }
 ],
 "metadata": {
  "kernelspec": {
   "display_name": "proyecto4",
   "language": "python",
   "name": "python3"
  },
  "language_info": {
   "codemirror_mode": {
    "name": "ipython",
    "version": 3
   },
   "file_extension": ".py",
   "mimetype": "text/x-python",
   "name": "python",
   "nbconvert_exporter": "python",
   "pygments_lexer": "ipython3",
   "version": "3.12.4"
  }
 },
 "nbformat": 4,
 "nbformat_minor": 2
}
